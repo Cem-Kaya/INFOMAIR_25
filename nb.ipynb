{
 "cells": [
  {
   "cell_type": "code",
   "execution_count": 25,
   "metadata": {},
   "outputs": [],
   "source": [
    "import numpy as np\n",
    "import pandas as pd\n",
    "\n",
    "from sklearn.model_selection import train_test_split\n",
    "import matplotlib.pyplot as plt\n"
   ]
  },
  {
   "cell_type": "code",
   "execution_count": 24,
   "metadata": {},
   "outputs": [
    {
     "data": {
      "text/html": [
       "<div>\n",
       "<style scoped>\n",
       "    .dataframe tbody tr th:only-of-type {\n",
       "        vertical-align: middle;\n",
       "    }\n",
       "\n",
       "    .dataframe tbody tr th {\n",
       "        vertical-align: top;\n",
       "    }\n",
       "\n",
       "    .dataframe thead th {\n",
       "        text-align: right;\n",
       "    }\n",
       "</style>\n",
       "<table border=\"1\" class=\"dataframe\">\n",
       "  <thead>\n",
       "    <tr style=\"text-align: right;\">\n",
       "      <th></th>\n",
       "      <th>dialog_act</th>\n",
       "      <th>sentence</th>\n",
       "    </tr>\n",
       "  </thead>\n",
       "  <tbody>\n",
       "    <tr>\n",
       "      <th>0</th>\n",
       "      <td>inform</td>\n",
       "      <td>im looking for a moderately priced restaurant ...</td>\n",
       "    </tr>\n",
       "    <tr>\n",
       "      <th>1</th>\n",
       "      <td>inform</td>\n",
       "      <td>any part of town</td>\n",
       "    </tr>\n",
       "    <tr>\n",
       "      <th>2</th>\n",
       "      <td>inform</td>\n",
       "      <td>bistro food</td>\n",
       "    </tr>\n",
       "    <tr>\n",
       "      <th>3</th>\n",
       "      <td>confirm</td>\n",
       "      <td>is there a moderately priced restaurant that s...</td>\n",
       "    </tr>\n",
       "    <tr>\n",
       "      <th>4</th>\n",
       "      <td>affirm</td>\n",
       "      <td>yes</td>\n",
       "    </tr>\n",
       "  </tbody>\n",
       "</table>\n",
       "</div>"
      ],
      "text/plain": [
       "  dialog_act                                           sentence\n",
       "0     inform  im looking for a moderately priced restaurant ...\n",
       "1     inform                                   any part of town\n",
       "2     inform                                        bistro food\n",
       "3    confirm  is there a moderately priced restaurant that s...\n",
       "4     affirm                                                yes"
      ]
     },
     "execution_count": 24,
     "metadata": {},
     "output_type": "execute_result"
    }
   ],
   "source": [
    "# split input in dialog act and sentence\n",
    "split_lines = []\n",
    "with open('dialog_acts.dat', 'r') as f:  \n",
    "    for line in f:\n",
    "        split_lines.append(line.rstrip().split(' ', 1))\n",
    "    \n",
    "data = pd.DataFrame(split_lines, columns=['dialog_act', 'sentence'])\n",
    "\n",
    "data.head()"
   ]
  },
  {
   "cell_type": "code",
   "execution_count": 29,
   "metadata": {},
   "outputs": [],
   "source": [
    "x_train, x_test, y_train, y_test = train_test_split( data[\"dialog_act\"], data[\"sentence\"] , test_size=0.15, random_state=42)"
   ]
  },
  {
   "cell_type": "code",
   "execution_count": 32,
   "metadata": {},
   "outputs": [
    {
     "name": "stdout",
     "output_type": "stream",
     "text": [
      "inform\n"
     ]
    }
   ],
   "source": [
    "def base_line1(data):\n",
    "    return data.value_counts().idxmax() \n",
    "print(base_line1(x_train))"
   ]
  },
  {
   "cell_type": "code",
   "execution_count": 36,
   "metadata": {},
   "outputs": [
    {
     "data": {
      "text/plain": [
       "sentence\n",
       "thank you good bye                                 2197\n",
       "phone number                                        783\n",
       "yes                                                 672\n",
       "address                                             581\n",
       "i dont care                                         519\n",
       "                                                   ... \n",
       "can i find an expensive russian food restaurant       1\n",
       "i need a restaurant that serves thai food             1\n",
       "id like to find japanese food                         1\n",
       "vietnamese food in any area                           1\n",
       "alright                                               1\n",
       "Name: count, Length: 4736, dtype: int64"
      ]
     },
     "execution_count": 36,
     "metadata": {},
     "output_type": "execute_result"
    }
   ],
   "source": [
    "rules = {\n",
    "    \"ack\": [\"okay\", \"uhm\", \"fine\", \"sure\"],\n",
    "    \"affirm\": [\"yes\", \"right\", \"good\", \"do that\", \"agreed\"],\n",
    "    \"bye\": [\"bye\", \"goodbye\", \"see you\", \"see you later\"],\n",
    "    \"confirm\": [\"is it\", \"does it\"],\n",
    "    \"hello\": [\"hello\", \"hi\"],\n",
    "    \"thankyou\" : [\"thank\"],\n",
    "    \"deny\": [\"dont\", \"no\"] ,\n",
    "    \"inform\" : [\"care\"],\n",
    "    \"request\": [\"address\", \"post\", \"what is\", \"postal\"]\n",
    "}\n",
    "\n",
    "y_train.value_counts() "
   ]
  },
  {
   "cell_type": "code",
   "execution_count": 38,
   "metadata": {},
   "outputs": [
    {
     "data": {
      "text/plain": [
       "dialog_act  sentence                                                                              \n",
       "thankyou    thank you good bye                                                                        2565\n",
       "request     phone number                                                                               914\n",
       "affirm      yes                                                                                        803\n",
       "request     address                                                                                    678\n",
       "inform      i dont care                                                                                613\n",
       "                                                                                                      ... \n",
       "            im looking for a restaurant in the center serving                                            1\n",
       "            im looking for a restaurant in the center part of town that serves unusual food              1\n",
       "            im looking for a restaurant in the center part of town that serves unintelligible food       1\n",
       "            im looking for a restaurant in the center part of town that serves european food             1\n",
       "thankyou    water cherries thank you good bye                                                            1\n",
       "Name: count, Length: 5359, dtype: int64"
      ]
     },
     "execution_count": 38,
     "metadata": {},
     "output_type": "execute_result"
    }
   ],
   "source": [
    "data.value_counts() "
   ]
  },
  {
   "cell_type": "code",
   "execution_count": null,
   "metadata": {},
   "outputs": [],
   "source": []
  },
  {
   "cell_type": "code",
   "execution_count": null,
   "metadata": {},
   "outputs": [],
   "source": []
  }
 ],
 "metadata": {
  "kernelspec": {
   "display_name": "base",
   "language": "python",
   "name": "python3"
  },
  "language_info": {
   "codemirror_mode": {
    "name": "ipython",
    "version": 3
   },
   "file_extension": ".py",
   "mimetype": "text/x-python",
   "name": "python",
   "nbconvert_exporter": "python",
   "pygments_lexer": "ipython3",
   "version": "3.10.14"
  }
 },
 "nbformat": 4,
 "nbformat_minor": 2
}
