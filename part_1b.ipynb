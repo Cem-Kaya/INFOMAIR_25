{
 "cells": [
  {
   "cell_type": "code",
   "execution_count": 1,
   "metadata": {},
   "outputs": [],
   "source": [
    "import pandas as pd\n",
    "from enum import Enum\n",
    "\n",
    "class DialogState(Enum):\n",
    "    WELCOME = 1  # starting state \n",
    "    ASK_PREFERENCES = 2  # User provides preferences\n",
    "    ASK_CLEAR_PREFERENCES = 3  # Ask for more clear answers\n",
    "    NO_RESTAURANT_FOUND = 4  # 404 No restaurant found\n",
    "    SUGGEST_RESTAURANT = 5  # Suggest a restaurant somehow\n",
    "    DELETE_DISLIKED_RESTAURANT = 6  # User dislikes the suggestion. delete it\n",
    "    OTHER_REQUEST = 7  #       other user request\n",
    "    GOODBYE = 8  # End \n"
   ]
  },
  {
   "cell_type": "code",
   "execution_count": 2,
   "metadata": {},
   "outputs": [
    {
     "name": "stdout",
     "output_type": "stream",
     "text": [
      "Index(['restaurantname', 'pricerange', 'area', 'food', 'phone', 'addr',\n",
      "       'postcode'],\n",
      "      dtype='object')\n",
      "len(pricerange_list): 3 - pricerange_list: ['cheap', 'expensive', 'moderate']\n",
      "len(area_list): 6 - area_list: ['north', 'west', 'south', 'centre', 'None', 'east']\n",
      "len(food_list): 36 - food_list: ['japanese', 'chinese', 'vietnamese', 'catalan', 'tuscan', 'modern european', 'fusion', 'gastropub', 'spanish', 'european', 'italian', 'mediterranean', 'bistro', 'steakhouse', 'traditional', 'moroccan', 'australasian', 'thai', 'cuban', 'international', 'turkish', 'jamaican', 'north american', 'french', 'korean', 'portuguese', 'polynesian', 'indian', 'seafood', 'asian oriental', 'persian', 'lebanese', 'romanian', 'african', 'swiss', 'british']\n",
      "len(restaurantname_list): 109 - restaurantname_list: ['rice house', 'the oak bistro', 'pizza hut city centre', 'meghna', 'cote', 'maharajah tandoori restaurant', 'cocum', 'pizza hut cherry hinton', 'panahar', 'the cow pizza kitchen and bar', 'golden wok', 'shiraz restaurant', 'saigon city', 'chiquito restaurant bar', 'de luca cucina and bar', 'mahal of cambridge', 'caffe uno', 'bloomsbury restaurant', 'saffron brasserie', 'the river bar steakhouse and grill', 'pizza express fen ditton', 'shanghai family restaurant', 'hk fusion', 'ali baba', 'loch fyne', 'tandoori palace', 'taj tandoori', 'riverside brasserie', 'little seoul', 'royal spice', 'city stop restaurant', 'graffiti', 'grafton hotel restaurant', 'hotel du vin and bistro', 'lan hong house', 'la tasca', 'pipasha restaurant', 'fitzbillies restaurant', 'don pasquale pizzeria', 'the hotpot', 'rajmahal', 'thanh binh', 'hakka', 'eraina', 'nandos city centre', 'the slug and lettuce', 'la margherita', 'pizza hut fen ditton', 'dojo noodle bar', 'rice boat', 'yu garden', 'the cambridge chop house', 'la raza', 'wagamama', 'backstreet bistro', 'peking restaurant', 'cambridge lodge restaurant', 'prezzo', 'restaurant alimentum', 'la mimosa', 'efes restaurant', 'stazione restaurant and coffee bar', 'kohinoor', 'the copper kettle', 'frankie and bennys', 'bangkok city', 'the missing sock', 'michaelhouse cafe', 'the golden curry', 'clowns cafe', 'galleria', 'saint johns chop house', 'gourmet burger kitchen', 'anatolia', 'curry prince', 'nandos', 'the gandhi', 'kymmoy', 'yippee noodle bar', 'golden house', 'jinling noodle bar', 'india house', 'royal standard', 'j restaurant', 'the varsity restaurant', 'zizzi cambridge', 'restaurant one seven', 'meze bar restaurant', 'the lucky star', 'da vinci pizzeria', 'bedouin', 'travellers rest', 'restaurant two two', 'ugly duckling', 'sesame restaurant and bar', 'cotto', 'curry garden', 'curry king', 'the nirala', 'sitar tandoori', 'charlie chan', 'the good luck chinese food takeaway', 'darrys cookhouse and wine shop', 'midsummer house restaurant', 'sala thong', 'curry queen', 'the gardenia', 'pizza express', 'ask']\n"
     ]
    }
   ],
   "source": [
    "db = pd.read_csv('restaurant_info.csv')\n",
    "db = db.fillna('None').astype(str)\n",
    "print(db.columns)\n",
    "print(f\"len(pricerange_list): {len(pricerange_list := list(set(db['pricerange'])))} - pricerange_list: {pricerange_list}\")\n",
    "print(f\"len(area_list): {len(area_list := list(set(db['area'])))} - area_list: {area_list}\")\n",
    "print(f\"len(food_list): {len(food_list := list(set(db['food'])))} - food_list: {food_list}\")\n",
    "print(f\"len(restaurantname_list): {len(restaurantname_list := list(set(db['restaurantname'])))} - restaurantname_list: {restaurantname_list}\")\n",
    "\n",
    "# Initialize the dictionary\n",
    "restaurant_info_dict = {}\n",
    "\n",
    "for index, row in db.iterrows():\n",
    "    restaurant_name = row['restaurantname']\n",
    "    restaurant_info_dict[restaurant_name] = {\n",
    "        'pricerange': row['pricerange'],\n",
    "        'area': row['area'],\n",
    "        'food': row['food'],\n",
    "        'phone': row['phone'],\n",
    "        'address': row['addr'],\n",
    "        'postcode': row['postcode']\n",
    "        }\n",
    "    "
   ]
  },
  {
   "cell_type": "code",
   "execution_count": 3,
   "metadata": {},
   "outputs": [],
   "source": [
    "# TODO: do the fancy edit distance thing\n",
    "def extract_preferences(user_input):\n",
    "    # data to be matched\n",
    "    preferences = {\"food_type\": None, \"pricerange\": None, \"area\": None}\n",
    "    for pr in   pricerange_list:\n",
    "        if pr in user_input:\n",
    "            preferences[\"pricerange\"] = pr\n",
    "    for ar in area_list:\n",
    "        if ar in user_input:\n",
    "            preferences[\"area\"] = ar\n",
    "    for fd in food_list:\n",
    "        if fd in user_input:\n",
    "            preferences[\"food_type\"] = fd            \n",
    "    return preferences"
   ]
  },
  {
   "cell_type": "code",
   "execution_count": 4,
   "metadata": {},
   "outputs": [],
   "source": [
    "# TODO: actually search the database\n",
    "def find_restaurants(preferences):\n",
    "    # This is just a placeholder to simulate restaurant searching\n",
    "    return [\"hot pot expirience\"]\n",
    "  "
   ]
  },
  {
   "cell_type": "code",
   "execution_count": 5,
   "metadata": {},
   "outputs": [],
   "source": [
    "# state fucntion \n",
    "# TODO: stop overwriting the preferences\n",
    "def dialog_manager(current_state, user_input):\n",
    "    preferences = {\"food_type\": None, \"pricerange\": None, \"area\": None}\n",
    "    if current_state == DialogState.WELCOME:\n",
    "        print(\"Welcome! What type of restaurant are you looking for?\")\n",
    "        return DialogState.ASK_PREFERENCES\n",
    "    \n",
    "    elif current_state == DialogState.ASK_PREFERENCES:\n",
    "        preferences = extract_preferences(user_input)\n",
    "        # check was there any preferences\n",
    "        if not ( preferences[\"food_type\"] or preferences[\"pricerange\"] or preferences[\"area\"] ):\n",
    "            return DialogState.ASK_CLEAR_PREFERENCES\n",
    "        else:  \n",
    "            matched_restaurants = find_restaurants(preferences)\n",
    "            if matched_restaurants:\n",
    "                print(f\"Here is a recommendation: {matched_restaurants[0]}\")\n",
    "                return DialogState.SUGGEST_RESTAURANT\n",
    "            else:\n",
    "                print(\"Sorry, no restaurant matches your preferences.\")\n",
    "                return DialogState.NO_RESTAURANT_FOUND\n",
    "        \n",
    "    \n",
    "    elif current_state == DialogState.ASK_CLEAR_PREFERENCES:\n",
    "        preferences = extract_preferences(user_input)\n",
    "        if preferences[\"food_type\"] or preferences[\"pricerange\"] or preferences[\"area\"]:\n",
    "            return DialogState.ASK_PREFERENCES\n",
    "        else:\n",
    "            print(\"I still couldn't understand. Could you please try again?\")\n",
    "            return DialogState.ASK_CLEAR_PREFERENCES\n",
    "\n",
    "    elif current_state == DialogState.SUGGEST_RESTAURANT:\n",
    "        print(\"Would you like this restaurant? If not, I can suggest another.\")\n",
    "        return DialogState.DELETE_DISLIKED_RESTAURANT\n",
    "    \n",
    "    elif current_state == DialogState.DELETE_DISLIKED_RESTAURANT:\n",
    "        if user_input.lower() == \"no\":\n",
    "            print(\"Removing that option, let me suggest another.\")\n",
    "            # Logic to suggest another restaurant\n",
    "            return DialogState.SUGGEST_RESTAURANT\n",
    "        else:\n",
    "            print(\"Great! I'm glad you like it.\")\n",
    "            return DialogState.OTHER_REQUEST\n",
    "    \n",
    "    elif current_state == DialogState.NO_RESTAURANT_FOUND:\n",
    "        print(\"Unfortunately, no restaurants matched your preferences.\")\n",
    "        preferences = {\"food_type\": None, \"pricerange\": None, \"area\": None}\n",
    "        return DialogState.ASK_PREFERENCES\n",
    "    \n",
    "    elif current_state == DialogState.OTHER_REQUEST:\n",
    "        print(\"Do you have any other requests or preferences?\")\n",
    "        # Handle other requests or end the dialog\n",
    "        return DialogState.GOODBYE\n",
    "    \n",
    "    elif current_state == DialogState.GOODBYE:\n",
    "        print(\"Goodbye! Have a nice day.\")\n",
    "        return None  # End the conversation\n",
    "\n",
    "\n"
   ]
  },
  {
   "cell_type": "code",
   "execution_count": 6,
   "metadata": {},
   "outputs": [
    {
     "name": "stdout",
     "output_type": "stream",
     "text": [
      "Welcome! What type of restaurant are you looking for?\n",
      "I still couldn't understand. Could you please try again?\n",
      "I still couldn't understand. Could you please try again?\n",
      "I still couldn't understand. Could you please try again?\n",
      "Here is a recommendation: hot pot expirience\n",
      "Would you like this restaurant? If not, I can suggest another.\n",
      "Great! I'm glad you like it.\n",
      "Do you have any other requests or preferences?\n",
      "Goodbye! Have a nice day.\n"
     ]
    }
   ],
   "source": [
    "# Simulate a conversation\n",
    "state = DialogState.WELCOME\n",
    "restaurant_db = {}  # Mocked for now\n",
    "while state is not None:\n",
    "    user_input = input(\"User: \")\n",
    "    state = dialog_manager(state, user_input)\n",
    "    #break"
   ]
  },
  {
   "cell_type": "code",
   "execution_count": null,
   "metadata": {},
   "outputs": [],
   "source": []
  },
  {
   "cell_type": "code",
   "execution_count": null,
   "metadata": {},
   "outputs": [],
   "source": []
  },
  {
   "cell_type": "code",
   "execution_count": null,
   "metadata": {},
   "outputs": [],
   "source": []
  }
 ],
 "metadata": {
  "kernelspec": {
   "display_name": "scikit",
   "language": "python",
   "name": "python3"
  },
  "language_info": {
   "codemirror_mode": {
    "name": "ipython",
    "version": 3
   },
   "file_extension": ".py",
   "mimetype": "text/x-python",
   "name": "python",
   "nbconvert_exporter": "python",
   "pygments_lexer": "ipython3",
   "version": "3.10.14"
  }
 },
 "nbformat": 4,
 "nbformat_minor": 2
}
