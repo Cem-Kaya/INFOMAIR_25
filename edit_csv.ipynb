{
 "cells": [
  {
   "cell_type": "code",
   "execution_count": 1,
   "metadata": {},
   "outputs": [],
   "source": [
    "import pandas as pd \n",
    "import numpy as np\n",
    "\n",
    "db = pd.read_csv('restaurant_info.csv') \n",
    "db.head()\n"
   ]
  },
  {
   "cell_type": "code",
   "execution_count": 2,
   "metadata": {},
   "outputs": [],
   "source": [
    "# add new column with random data named (food quality, crowdedness, length of stay)\n",
    "db['food_quality'] = np.random.randint(1, 10, db.shape[0])\n",
    "# make crowdedness and length of stay random boolean \n",
    "\n",
    "db['crowdedness'] = np.random.choice([True, False], db.shape[0])\n",
    "db['length_of_stay'] = np.random.choice([True, False], db.shape[0])\n",
    "# save the csv as a new file \n",
    "db.to_csv('updated_restaurant_info.csv', index=False)"
   ]
  }
 ],
 "metadata": {
  "kernelspec": {
   "display_name": "scikit",
   "language": "python",
   "name": "python3"
  },
  "language_info": {
   "codemirror_mode": {
    "name": "ipython",
    "version": 3
   },
   "file_extension": ".py",
   "mimetype": "text/x-python",
   "name": "python",
   "nbconvert_exporter": "python",
   "pygments_lexer": "ipython3",
   "version": "3.10.14"
  }
 },
 "nbformat": 4,
 "nbformat_minor": 2
}
